{
  "nbformat": 4,
  "nbformat_minor": 0,
  "metadata": {
    "colab": {
      "provenance": []
    },
    "kernelspec": {
      "name": "python3",
      "display_name": "Python 3"
    },
    "language_info": {
      "name": "python"
    }
  },
  "cells": [
    {
      "cell_type": "code",
      "source": [
        "import math\n",
        "import itertools\n",
        "\n",
        "class City:\n",
        "    def __init__(self, name, coordinates, accommodation_cost):\n",
        "        self.name = name\n",
        "        self.coordinates = coordinates\n",
        "        self.accommodation_cost = accommodation_cost\n",
        "\n",
        "    def calculate_distance(self, other_city):\n",
        "        x1, y1 = self.coordinates\n",
        "        x2, y2 = other_city.coordinates\n",
        "        return math.sqrt((x2 - x1)**2 + (y2 - y1)**2)\n",
        "\n",
        "# 建立七個城市的實例\n",
        "cities = [\n",
        "    City('A', (0, 0), 2000),\n",
        "    City('B', (0, 120), 2400),\n",
        "    City('C', (30, 100), 2400),\n",
        "    City('D', (80, 0), 1600),\n",
        "    City('E', (45, 10), 1500),\n",
        "    City('F', (90, 160), 2200),\n",
        "    City('G', (120, 200), 1200)]\n",
        "\n",
        "def calculate_total_cost(route):\n",
        "    total_distance = 0\n",
        "    total_cost = 0\n",
        "\n",
        "    for i in range(len(route)-1):\n",
        "        current_city = route[i]\n",
        "        next_city = route[i+1]\n",
        "\n",
        "        distance = current_city.calculate_distance(next_city)\n",
        "        cost = current_city.accommodation_cost + distance * 100\n",
        "\n",
        "        total_distance += distance\n",
        "        total_cost += cost\n",
        "\n",
        "    return total_cost\n",
        "\n",
        "# 列舉所有城市順序的排列組合\n",
        "permutations = list(itertools.permutations(cities))\n",
        "\n",
        "min_cost = float('inf')\n",
        "best_route = []\n",
        "\n",
        "for permutation in permutations:\n",
        "    route = list(permutation)\n",
        "    route_cost = calculate_total_cost(route)\n",
        "\n",
        "    if route_cost < min_cost:\n",
        "        min_cost = route_cost\n",
        "        best_route = route\n",
        "\n",
        "print(\"最佳遊歷順序：\", ' -> '.join(city.name for city in best_route))\n",
        "print(\"總旅費：\", min_cost)"
      ],
      "metadata": {
        "colab": {
          "base_uri": "https://localhost:8080/"
        },
        "id": "X1y8rM5Zjbil",
        "outputId": "348dd25e-ef1b-49fb-d590-ad93fb3a814d"
      },
      "execution_count": 20,
      "outputs": [
        {
          "output_type": "stream",
          "name": "stdout",
          "text": [
            "最佳遊歷順序： G -> F -> B -> C -> A -> E -> D\n",
            "總旅費： 48844.54275945734\n"
          ]
        }
      ]
    }
  ]
}
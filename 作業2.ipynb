{
  "nbformat": 4,
  "nbformat_minor": 0,
  "metadata": {
    "colab": {
      "provenance": []
    },
    "kernelspec": {
      "name": "python3",
      "display_name": "Python 3"
    },
    "language_info": {
      "name": "python"
    }
  },
  "cells": [
    {
      "cell_type": "markdown",
      "source": [
        "1.總共多少文字？(空格不算字元)"
      ],
      "metadata": {
        "id": "qpEdbZ0J9Oc0"
      }
    },
    {
      "cell_type": "code",
      "execution_count": null,
      "metadata": {
        "id": "c-f5QkXoIuaA",
        "colab": {
          "base_uri": "https://localhost:8080/"
        },
        "outputId": "90472162-e363-49a4-8cb0-b1dd63ef4a1f"
      },
      "outputs": [
        {
          "output_type": "stream",
          "name": "stdout",
          "text": [
            "總共有 127 字\n"
          ]
        }
      ],
      "source": [
        "a=str(\"\"\" 大道之行也，天  下為公。 選賢與能，講信  修睦。故人不獨親其親，不獨子其子；使老有所終，壯有 所用，幼有 所長，矜寡孤獨廢疾者，皆有所養；男有分 女有歸。貨惡其棄 於地也不必藏於  己；力惡其不  出於身也不必為己。是故 謀閉而不興 ，盜竊亂賊而不作，故外戶而 不閉，是謂「大同」。\"\"\")\n",
        "b=a.replace(\" \",\"\")\n",
        "c=len(b)\n",
        "print(\"總共有\",c,\"字\")"
      ]
    },
    {
      "cell_type": "markdown",
      "source": [
        "2.文章分段落顯示出來(每句話以一行顯示)"
      ],
      "metadata": {
        "id": "OrI22sFx-bYw"
      }
    },
    {
      "cell_type": "code",
      "source": [
        "\n",
        "a=str(\"\"\" 大道之行也，天  下為公。 選賢與能，講信  修睦。故人不獨親其親，不獨子其子；使老有所終，壯有 所用，幼有 所長，矜寡孤獨廢疾者，皆有所養；男有分 女有歸。貨惡其棄 於地也不必藏於  己；力惡其不  出於身也不必為己。是故 謀閉而不興 ，盜竊亂賊而不作，故外戶而 不閉，是謂「大同」。\"\"\")\n",
        "b=a.replace(\" \",\"\")\n",
        "c=''.join(b.split(','))\n",
        "e=',\\n'.join(c.split('，'))\n",
        "f='。\\n'.join(e.split('。'))\n",
        "g='；\\n'.join(f.split('；'))\n",
        "\n",
        "print(g)"
      ],
      "metadata": {
        "id": "98KOu3A14lY4",
        "colab": {
          "base_uri": "https://localhost:8080/"
        },
        "outputId": "f0c66b6d-a4c5-41ac-fcad-d5d5e084d906"
      },
      "execution_count": null,
      "outputs": [
        {
          "output_type": "stream",
          "name": "stdout",
          "text": [
            "大道之行也,\n",
            "天下為公。\n",
            "選賢與能,\n",
            "講信修睦。\n",
            "故人不獨親其親,\n",
            "不獨子其子；\n",
            "使老有所終,\n",
            "壯有所用,\n",
            "幼有所長,\n",
            "矜寡孤獨廢疾者,\n",
            "皆有所養；\n",
            "男有分女有歸。\n",
            "貨惡其棄於地也不必藏於己；\n",
            "力惡其不出於身也不必為己。\n",
            "是故謀閉而不興,\n",
            "盜竊亂賊而不作,\n",
            "故外戶而不閉,\n",
            "是謂「大同」。\n",
            "\n"
          ]
        }
      ]
    },
    {
      "cell_type": "markdown",
      "source": [
        "3.文章中共有多少的“不”字？\n"
      ],
      "metadata": {
        "id": "z3hGtczq-c0D"
      }
    },
    {
      "cell_type": "code",
      "source": [
        "e=(b.count('不'))\n",
        "print(\"共有\",e,\"個\")"
      ],
      "metadata": {
        "colab": {
          "base_uri": "https://localhost:8080/"
        },
        "id": "A2S9ysN4-ehS",
        "outputId": "8c9bbeec-9742-48d0-f4ac-36a215c73ea1"
      },
      "execution_count": null,
      "outputs": [
        {
          "output_type": "stream",
          "name": "stdout",
          "text": [
            "共有 8 個\n"
          ]
        }
      ]
    }
  ]
}